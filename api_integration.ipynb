{
 "cells": [
  {
   "cell_type": "code",
   "execution_count": 32,
   "id": "8ab6072a-6bd7-492a-b1ce-0ba41e6f9a0e",
   "metadata": {},
   "outputs": [
    {
     "name": "stdin",
     "output_type": "stream",
     "text": [
      "Enter the city name:  Mumbai\n"
     ]
    },
    {
     "name": "stdout",
     "output_type": "stream",
     "text": [
      "Weather in Mumbai: Smoke (smoke)\n",
      "Temperature: 28.99°C\n",
      "Humidity: 30%\n"
     ]
    }
   ],
   "source": [
    "import requests\n",
    "\n",
    "def get_weather(city_name, api_key):\n",
    "    # Define the endpoint and parameters\n",
    "    url = f'http://api.openweathermap.org/data/2.5/weather?q={city_name}&appid={api_key}&units=metric'\n",
    "    \n",
    "    # Send the GET request to the OpenWeather API\n",
    "    response = requests.get(url)\n",
    "    \n",
    "    # Check if the response status is OK\n",
    "    if response.status_code == 200:\n",
    "        # Parse the JSON response\n",
    "        data = response.json()\n",
    "        \n",
    "        # Extract relevant weather data\n",
    "        main_weather = data['weather'][0]['main']\n",
    "        description = data['weather'][0]['description']\n",
    "        temperature = data['main']['temp']\n",
    "        humidity = data['main']['humidity']\n",
    "        \n",
    "        # Display the weather information\n",
    "        print(f\"Weather in {city_name}: {main_weather} ({description})\")\n",
    "        print(f\"Temperature: {temperature}°C\")\n",
    "        print(f\"Humidity: {humidity}%\")\n",
    "    else:\n",
    "        # Handle errors (e.g., city not found)\n",
    "        print(f\"Error: {response.status_code}. Unable to fetch data for {city_name}\")\n",
    "\n",
    "# Input from the user for city name\n",
    "city = input(\"Enter the city name: \")\n",
    "\n",
    "# Your OpenWeather API key\n",
    "api_key = \"af41b5bd6231fd2c1b22a84523819f0a\"\n",
    "\n",
    "# Get the weather data for the specified city\n",
    "get_weather(city, api_key)\n"
   ]
  },
  {
   "cell_type": "code",
   "execution_count": null,
   "id": "d3cd1f22-e760-492b-85e1-0fb755587596",
   "metadata": {},
   "outputs": [],
   "source": []
  }
 ],
 "metadata": {
  "kernelspec": {
   "display_name": "Python 3 (ipykernel)",
   "language": "python",
   "name": "python3"
  },
  "language_info": {
   "codemirror_mode": {
    "name": "ipython",
    "version": 3
   },
   "file_extension": ".py",
   "mimetype": "text/x-python",
   "name": "python",
   "nbconvert_exporter": "python",
   "pygments_lexer": "ipython3",
   "version": "3.12.7"
  }
 },
 "nbformat": 4,
 "nbformat_minor": 5
}
